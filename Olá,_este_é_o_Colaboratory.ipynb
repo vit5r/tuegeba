{
  "cells": [
    {
      "cell_type": "markdown",
      "metadata": {
        "id": "view-in-github",
        "colab_type": "text"
      },
      "source": [
        "<a href=\"https://colab.research.google.com/github/vit5r/tuegeba/blob/main/Ol%C3%A1%2C_este_%C3%A9_o_Colaboratory.ipynb\" target=\"_parent\"><img src=\"https://colab.research.google.com/assets/colab-badge.svg\" alt=\"Open In Colab\"/></a>"
      ]
    },
    {
      "cell_type": "markdown",
      "source": [],
      "metadata": {
        "id": "pbjJ-6dMhjuZ"
      }
    },
    {
      "cell_type": "code",
      "source": [
        "F = float(input(\"digite o valor em graus faren: \"))\n",
        "C = (5/9)*(F - 32)\n",
        "print (F\" o valor de {F} ºF corresponde ao valor de {C} ºC\")\n"
      ],
      "metadata": {
        "id": "4od9VIoDhj-L",
        "outputId": "e1af3f16-c538-4670-e38f-f2e9dbfaeaab",
        "colab": {
          "base_uri": "https://localhost:8080/"
        }
      },
      "execution_count": 6,
      "outputs": [
        {
          "output_type": "stream",
          "name": "stdout",
          "text": [
            "digite o valor em graus faren: 22\n",
            " o valor de 22.0 ºF corresponde ao valor de -5.555555555555555 ºC\n"
          ]
        }
      ]
    },
    {
      "cell_type": "markdown",
      "source": [
        "# POLEGADAS\n"
      ],
      "metadata": {
        "id": "dgG-PKx8lgoM"
      }
    },
    {
      "cell_type": "code",
      "source": [
        "P = float(input(\"digite o valor em polegadas: \"))\n",
        "M = P*25.4\n",
        "print(f\"o valor de {P}pool corresponde  ao valor de {M}mm\")"
      ],
      "metadata": {
        "id": "5AjGgUGHllm6",
        "outputId": "b3a1604d-a0f0-49be-c24f-6cd3e9c96c8c",
        "colab": {
          "base_uri": "https://localhost:8080/"
        }
      },
      "execution_count": 18,
      "outputs": [
        {
          "output_type": "stream",
          "name": "stdout",
          "text": [
            "digite o valor em polegadas: 50\n",
            "o valor de 50.0pool corresponde  ao valor de 1270.0mm\n"
          ]
        }
      ]
    },
    {
      "cell_type": "markdown",
      "source": [
        "# idades\n"
      ],
      "metadata": {
        "id": "MFwcckMQtqtr"
      }
    },
    {
      "cell_type": "code",
      "source": [
        "idade = int(input(\"digite a idasde: \"))\n",
        "if 16<= idade < 70:\n",
        "  print(\"voce esta na faixa etaria entre 16 e 70 anos\")\n",
        "else:\n",
        "    print(\"voce esta fora da faixa entre 16 e 70\")"
      ],
      "metadata": {
        "id": "XpnGxHaItwmD",
        "outputId": "ada72cdc-5797-4768-bfa4-9cfa331818e3",
        "colab": {
          "base_uri": "https://localhost:8080/"
        }
      },
      "execution_count": 25,
      "outputs": [
        {
          "output_type": "stream",
          "name": "stdout",
          "text": [
            "digite a idasde: 88\n",
            "voce esta fora da faixa entre 16 e 70\n"
          ]
        }
      ]
    }
  ],
  "metadata": {
    "colab": {
      "name": "Olá, este é o Colaboratory",
      "toc_visible": true,
      "provenance": [],
      "include_colab_link": true
    },
    "kernelspec": {
      "display_name": "Python 3",
      "name": "python3"
    }
  },
  "nbformat": 4,
  "nbformat_minor": 0
}